{
 "cells": [
  {
   "cell_type": "code",
   "execution_count": 11,
   "metadata": {},
   "outputs": [
    {
     "name": "stdout",
     "output_type": "stream",
     "text": [
      "Found existing installation: webdriver-manager 4.0.1\n",
      "Uninstalling webdriver-manager-4.0.1:\n",
      "  Would remove:\n",
      "    /Users/muhammadkhalidbagha/anaconda3/lib/python3.11/site-packages/webdriver_manager-4.0.1.dist-info/*\n",
      "    /Users/muhammadkhalidbagha/anaconda3/lib/python3.11/site-packages/webdriver_manager/*\n",
      "Proceed (Y/n)? ^C\n",
      "\u001b[31mERROR: Operation cancelled by user\u001b[0m\u001b[31m\n",
      "\u001b[0mRequirement already satisfied: webdriver-manager in /Users/muhammadkhalidbagha/anaconda3/lib/python3.11/site-packages (4.0.1)\n",
      "Requirement already satisfied: requests in /Users/muhammadkhalidbagha/anaconda3/lib/python3.11/site-packages (from webdriver-manager) (2.32.3)\n",
      "Requirement already satisfied: python-dotenv in /Users/muhammadkhalidbagha/anaconda3/lib/python3.11/site-packages (from webdriver-manager) (0.21.0)\n",
      "Requirement already satisfied: packaging in /Users/muhammadkhalidbagha/anaconda3/lib/python3.11/site-packages (from webdriver-manager) (24.1)\n",
      "Requirement already satisfied: charset-normalizer<4,>=2 in /Users/muhammadkhalidbagha/anaconda3/lib/python3.11/site-packages (from requests->webdriver-manager) (2.0.4)\n",
      "Requirement already satisfied: idna<4,>=2.5 in /Users/muhammadkhalidbagha/anaconda3/lib/python3.11/site-packages (from requests->webdriver-manager) (3.4)\n",
      "Requirement already satisfied: urllib3<3,>=1.21.1 in /Users/muhammadkhalidbagha/anaconda3/lib/python3.11/site-packages (from requests->webdriver-manager) (2.2.2)\n",
      "Requirement already satisfied: certifi>=2017.4.17 in /Users/muhammadkhalidbagha/anaconda3/lib/python3.11/site-packages (from requests->webdriver-manager) (2023.7.22)\n"
     ]
    }
   ],
   "source": [
    "!pip uninstall webdriver-manager\n",
    "pip install webdriver-manager"
   ]
  },
  {
   "cell_type": "code",
   "execution_count": 1,
   "metadata": {},
   "outputs": [
    {
     "name": "stdout",
     "output_type": "stream",
     "text": [
      "Requirement already satisfied: webdriver-manager in /Users/muhammadkhalidbagha/anaconda3/lib/python3.11/site-packages (4.0.1)\n",
      "Requirement already satisfied: selenium in /Users/muhammadkhalidbagha/anaconda3/lib/python3.11/site-packages (4.16.0)\n",
      "Requirement already satisfied: requests in /Users/muhammadkhalidbagha/anaconda3/lib/python3.11/site-packages (from webdriver-manager) (2.32.3)\n",
      "Requirement already satisfied: python-dotenv in /Users/muhammadkhalidbagha/anaconda3/lib/python3.11/site-packages (from webdriver-manager) (0.21.0)\n",
      "Requirement already satisfied: packaging in /Users/muhammadkhalidbagha/anaconda3/lib/python3.11/site-packages (from webdriver-manager) (24.1)\n",
      "Requirement already satisfied: urllib3[socks]<3,>=1.26 in /Users/muhammadkhalidbagha/anaconda3/lib/python3.11/site-packages (from selenium) (2.2.2)\n",
      "Requirement already satisfied: trio~=0.17 in /Users/muhammadkhalidbagha/anaconda3/lib/python3.11/site-packages (from selenium) (0.23.2)\n",
      "Requirement already satisfied: trio-websocket~=0.9 in /Users/muhammadkhalidbagha/anaconda3/lib/python3.11/site-packages (from selenium) (0.11.1)\n",
      "Requirement already satisfied: certifi>=2021.10.8 in /Users/muhammadkhalidbagha/anaconda3/lib/python3.11/site-packages (from selenium) (2023.7.22)\n",
      "Requirement already satisfied: attrs>=20.1.0 in /Users/muhammadkhalidbagha/anaconda3/lib/python3.11/site-packages (from trio~=0.17->selenium) (22.1.0)\n",
      "Requirement already satisfied: sortedcontainers in /Users/muhammadkhalidbagha/anaconda3/lib/python3.11/site-packages (from trio~=0.17->selenium) (2.4.0)\n",
      "Requirement already satisfied: idna in /Users/muhammadkhalidbagha/anaconda3/lib/python3.11/site-packages (from trio~=0.17->selenium) (3.4)\n",
      "Requirement already satisfied: outcome in /Users/muhammadkhalidbagha/anaconda3/lib/python3.11/site-packages (from trio~=0.17->selenium) (1.3.0.post0)\n",
      "Requirement already satisfied: sniffio>=1.3.0 in /Users/muhammadkhalidbagha/anaconda3/lib/python3.11/site-packages (from trio~=0.17->selenium) (1.3.0)\n",
      "Requirement already satisfied: wsproto>=0.14 in /Users/muhammadkhalidbagha/anaconda3/lib/python3.11/site-packages (from trio-websocket~=0.9->selenium) (1.2.0)\n",
      "Requirement already satisfied: pysocks!=1.5.7,<2.0,>=1.5.6 in /Users/muhammadkhalidbagha/anaconda3/lib/python3.11/site-packages (from urllib3[socks]<3,>=1.26->selenium) (1.7.1)\n",
      "Requirement already satisfied: charset-normalizer<4,>=2 in /Users/muhammadkhalidbagha/anaconda3/lib/python3.11/site-packages (from requests->webdriver-manager) (2.0.4)\n",
      "Requirement already satisfied: h11<1,>=0.9.0 in /Users/muhammadkhalidbagha/anaconda3/lib/python3.11/site-packages (from wsproto>=0.14->trio-websocket~=0.9->selenium) (0.14.0)\n"
     ]
    }
   ],
   "source": [
    "!pip install webdriver-manager selenium\n",
    "\n",
    "\n"
   ]
  },
  {
   "cell_type": "code",
   "execution_count": 7,
   "metadata": {},
   "outputs": [],
   "source": [
    "from selenium import webdriver\n",
    "from selenium.webdriver.common.by import By\n",
    "from selenium.webdriver.support.ui import WebDriverWait\n",
    "from selenium.webdriver.support import expected_conditions as EC\n",
    "from selenium.webdriver.common.keys import Keys\n",
    "from selenium.webdriver.chrome.service import Service\n",
    "from webdriver_manager.chrome import ChromeDriverManager\n",
    "from selenium.common.exceptions import NoSuchElementException\n",
    "from selenium.webdriver.common.by import By\n",
    "from selenium.webdriver.chrome.options import Options\n",
    "import time"
   ]
  },
  {
   "cell_type": "code",
   "execution_count": 4,
   "metadata": {},
   "outputs": [],
   "source": [
    "driver = webdriver.Chrome()\n"
   ]
  },
  {
   "cell_type": "code",
   "execution_count": 8,
   "metadata": {},
   "outputs": [
    {
     "ename": "TimeoutException",
     "evalue": "Message: \n",
     "output_type": "error",
     "traceback": [
      "\u001b[0;31m---------------------------------------------------------------------------\u001b[0m",
      "\u001b[0;31mTimeoutException\u001b[0m                          Traceback (most recent call last)",
      "Cell \u001b[0;32mIn[8], line 14\u001b[0m\n\u001b[1;32m     10\u001b[0m all_urls \u001b[38;5;241m=\u001b[39m []  \u001b[38;5;66;03m# To store all extracted URLs\u001b[39;00m\n\u001b[1;32m     12\u001b[0m \u001b[38;5;28;01mwhile\u001b[39;00m \u001b[38;5;28;01mTrue\u001b[39;00m:\n\u001b[1;32m     13\u001b[0m     \u001b[38;5;66;03m# Extract all search result URLs on the current page\u001b[39;00m\n\u001b[0;32m---> 14\u001b[0m     WebDriverWait(driver, \u001b[38;5;241m10\u001b[39m)\u001b[38;5;241m.\u001b[39muntil(\n\u001b[1;32m     15\u001b[0m             EC\u001b[38;5;241m.\u001b[39mpresence_of_all_elements_located((By\u001b[38;5;241m.\u001b[39mXPATH, \u001b[38;5;124m\"\u001b[39m\u001b[38;5;124m//div[@class=\u001b[39m\u001b[38;5;124m'\u001b[39m\u001b[38;5;124myuRUbf\u001b[39m\u001b[38;5;124m'\u001b[39m\u001b[38;5;124m]/a\u001b[39m\u001b[38;5;124m\"\u001b[39m))\n\u001b[1;32m     16\u001b[0m         )\n\u001b[1;32m     17\u001b[0m     results \u001b[38;5;241m=\u001b[39m driver\u001b[38;5;241m.\u001b[39mfind_elements(By\u001b[38;5;241m.\u001b[39mXPATH, \u001b[38;5;124m\"\u001b[39m\u001b[38;5;124m//div[@class=\u001b[39m\u001b[38;5;124m'\u001b[39m\u001b[38;5;124myuRUbf\u001b[39m\u001b[38;5;124m'\u001b[39m\u001b[38;5;124m]/a\u001b[39m\u001b[38;5;124m\"\u001b[39m)\n\u001b[1;32m     18\u001b[0m     \u001b[38;5;28mprint\u001b[39m(results)\n",
      "File \u001b[0;32m~/anaconda3/lib/python3.11/site-packages/selenium/webdriver/support/wait.py:105\u001b[0m, in \u001b[0;36mWebDriverWait.until\u001b[0;34m(self, method, message)\u001b[0m\n\u001b[1;32m    103\u001b[0m     \u001b[38;5;28;01mif\u001b[39;00m time\u001b[38;5;241m.\u001b[39mmonotonic() \u001b[38;5;241m>\u001b[39m end_time:\n\u001b[1;32m    104\u001b[0m         \u001b[38;5;28;01mbreak\u001b[39;00m\n\u001b[0;32m--> 105\u001b[0m \u001b[38;5;28;01mraise\u001b[39;00m TimeoutException(message, screen, stacktrace)\n",
      "\u001b[0;31mTimeoutException\u001b[0m: Message: \n"
     ]
    }
   ],
   "source": [
    "driver.get(\"https://www.google.com\")\n",
    "time.sleep(2)\n",
    "\n",
    "# Search for the query\n",
    "search_box = driver.find_element(By.NAME, \"q\")\n",
    "search_box.send_keys(\"Selenium Python\")\n",
    "search_box.send_keys(Keys.RETURN)\n",
    "time.sleep(2)\n",
    "\n",
    "all_urls = []  # To store all extracted URLs\n",
    "\n",
    "while True:\n",
    "    # Extract all search result URLs on the current page\n",
    "    results = driver.find_elements(By.XPATH, \"//div[@class='yuRUbf']/a\")\n",
    "    print(results)\n",
    "    for result in results:\n",
    "        url = result.get_attribute(\"href\")\n",
    "        all_urls.append(url)\n",
    "\n",
    "    # Check if the \"Next\" button is available and click it\n",
    "    try:\n",
    "        next_button = driver.find_element(By.ID, \"pnnext\")  # \"Next\" button\n",
    "        next_button.click()\n",
    "        time.sleep(2)  # Wait for the next psage to load\n",
    "    except Exception:\n",
    "        print(\"No more pages available.\")\n",
    "        break\n",
    "\n",
    "# Print all collected URLs\n",
    "print(\"Collected URLs:\")\n",
    "for url in all_urls:\n",
    "    print(url)\n"
   ]
  },
  {
   "cell_type": "code",
   "execution_count": 13,
   "metadata": {},
   "outputs": [
    {
     "name": "stdout",
     "output_type": "stream",
     "text": [
      "Found 0 results on this page.\n",
      "Found 0 results on this page.\n",
      "Found 0 results on this page.\n",
      "Found 0 results on this page.\n",
      "Found 0 results on this page.\n",
      "Found 0 results on this page.\n",
      "Found 0 results on this page.\n",
      "Found 0 results on this page.\n",
      "Found 0 results on this page.\n",
      "Found 0 results on this page.\n",
      "Found 0 results on this page.\n",
      "Found 0 results on this page.\n",
      "Found 0 results on this page.\n",
      "Found 0 results on this page.\n",
      "Found 0 results on this page.\n",
      "Found 0 results on this page.\n",
      "Found 0 results on this page.\n",
      "Found 0 results on this page.\n",
      "Found 0 results on this page.\n",
      "Found 0 results on this page.\n",
      "Found 0 results on this page.\n",
      "No more pages available.\n",
      "Collected URLs:\n"
     ]
    }
   ],
   "source": [
    "from selenium import webdriver\n",
    "from selenium.webdriver.common.by import By\n",
    "from selenium.webdriver.common.keys import Keys\n",
    "from selenium.webdriver.support.ui import WebDriverWait\n",
    "from selenium.webdriver.support import expected_conditions as EC\n",
    "from selenium.webdriver.chrome.service import Service\n",
    "from selenium.common.exceptions import TimeoutException  # Import TimeoutException\n",
    "from webdriver_manager.chrome import ChromeDriverManager\n",
    "import time\n",
    "\n",
    "# Initialize the Chrome driver\n",
    "driver = webdriver.Chrome()\n",
    "\n",
    "try:\n",
    "    # Open Google\n",
    "    driver.get(\"https://www.google.com\")\n",
    "    WebDriverWait(driver, 10).until(EC.presence_of_element_located((By.NAME, \"q\")))\n",
    "\n",
    "    # Search for the query\n",
    "    search_box = driver.find_element(By.NAME, \"q\")=\n",
    "    search_box.send_keys(\"Selenium Python\")\n",
    "    search_box.send_keys(Keys.RETURN)\n",
    "\n",
    "    all_urls = []  # To store all extracted URLs\n",
    "\n",
    "    while True:\n",
    "        time.sleep(5)\n",
    "        # Extract all search result URLs on the current page\n",
    "        results = driver.find_elements(By.CSS_SELECTOR, \"div.yuRUbf a\")\n",
    "        print(f\"Found {len(results)} results on this page.\")\n",
    "        for result in results:\n",
    "            url = result.get_attribute(\"href\")\n",
    "            if url not in all_urls:  # Avoid duplicates\n",
    "                all_urls.append(url)\n",
    "\n",
    "        # Check if the \"Next\" button is available and click it\n",
    "        try:\n",
    "            next_button = WebDriverWait(driver, 5).until(\n",
    "                EC.element_to_be_clickable((By.ID, \"pnnext\"))\n",
    "            )\n",
    "            next_button.click()\n",
    "            time.sleep(2)  # Wait for the next page to load\n",
    "        except Exception:\n",
    "            print(\"No more pages available.\")\n",
    "            break\n",
    "\n",
    "    # Print all collected URLs\n",
    "    print(\"Collected URLs:\")\n",
    "    for url in all_urls:\n",
    "        print(url)\n",
    "\n",
    "finally:\n",
    "    # Close the browser\n",
    "    driver.quit()\n"
   ]
  }
 ],
 "metadata": {
  "kernelspec": {
   "display_name": "Python 3 (ipykernel)",
   "language": "python",
   "name": "python3"
  },
  "language_info": {
   "codemirror_mode": {
    "name": "ipython",
    "version": 3
   },
   "file_extension": ".py",
   "mimetype": "text/x-python",
   "name": "python",
   "nbconvert_exporter": "python",
   "pygments_lexer": "ipython3",
   "version": "3.11.5"
  }
 },
 "nbformat": 4,
 "nbformat_minor": 2
}
